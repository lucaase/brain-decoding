{
 "cells": [
  {
   "cell_type": "markdown",
   "metadata": {},
   "source": [
    "# Introdução à Codificação Neural e Tipos de Sinais\n",
    "\n",
    "Nesta seção, vamos explorar a teoria e as aplicações práticas da codificação neural. Iremos discutir os níveis de análise e as escalas dos sinais eletrofisiológicos (macro, meso, micro), além dos principais tipos de dados: Potenciais de Campo Local (LFPs) e Spikes.\n",
    "\n",
    "### Objetivos:\n",
    "- Compreender a origem dos dados e a importância da decodificação.\n",
    "- Explorar a codificação neural por taxa de disparo e tempo."
   ]
  },
  {
   "cell_type": "markdown",
   "metadata": {},
   "source": [
    "# Toolkit de Ferramentas e Bases de Dados\n",
    "\n",
    "Para trabalhar com dados neurais, usaremos ferramentas e bibliotecas essenciais em Python.\n",
    "\n",
    "### Ferramentas:\n",
    "- **Jupyter Notebooks**: Ambiente interativo para análise de dados.\n",
    "- **IDE Python**: VSCode e Google Colab para desenvolvimento e execução de código.\n",
    "\n",
    "### Bibliotecas:\n",
    "- **Scikit-learn** para modelagem e avaliação.\n",
    "- **PyTorch** para modelos avançados de aprendizado profundo.\n",
    "- **Pynapple** para manipulação e análise de dados neurais.\n",
    "\n",
    "### Exemplos:\n",
    "Importação das bibliotecas e exemplos de uso básico."
   ]
  },
  {
   "cell_type": "code",
   "metadata": {},
   "outputs": [],
   "source": [
    "# Exemplo de importação das bibliotecas\n",
    "import numpy as np\n",
    "import pandas as pd\n",
    "from sklearn.decomposition import PCA\n",
    "from sklearn.cluster import KMeans\n",
    "import torch\n",
    "\n",
    "# Exemplo básico\n",
    "print('Bibliotecas importadas com sucesso!')"
   ]
  },
  {
   "cell_type": "markdown",
   "metadata": {},
   "source": [
    "# Redução de Dimensionalidade e Padrões Latentes\n",
    "\n",
    "Para entender padrões em dados de alta dimensionalidade, podemos usar métodos como **PCA**, **t-SNE** e **UMAP**.\n",
    "\n",
    "### Métodos:\n",
    "- **PCA**: Análise de Componentes Principais para simplificação de dados.\n",
    "- **t-SNE** e **UMAP**: Métodos para visualização de dados complexos.\n",
    "\n",
    "### Exploração:\n",
    "Vamos aplicar PCA e introduzir **CEBRA** para explorar trajetórias e padrões latentes em dados neurais."
   ]
  },
  {
   "cell_type": "code",
   "execution_count": null,
   "metadata": {},
   "outputs": [],
   "source": [
    "# Exemplo de PCA em dados simulados\n",
    "from sklearn.datasets import make_blobs\n",
    "import matplotlib.pyplot as plt\n",
    "\n",
    "# Gera dados simulados\n",
    "data, _ = make_blobs(n_samples=100, n_features=10)\n",
    "pca = PCA(n_components=2)\n",
    "reduced_data = pca.fit_transform(data)\n",
    "\n",
    "# Visualiza dados reduzidos\n",
    "plt.scatter(reduced_data[:, 0], reduced_data[:, 1], c='blue')\n",
    "plt.title('Projeção PCA')\n",
    "plt.xlabel('PC1')\n",
    "plt.ylabel('PC2')\n",
    "plt.show()"
   ]
  },
  {
   "cell_type": "markdown",
   "execution_count": null,
   "metadata": {},
   "outputs": [],
   "source": [
    "# Agrupamento e Classificação de Dados Neurais\n",
    "\n",
    "A análise de dados neurais requer tanto **classificação supervisionada** (ex. SVM, regressão logística) quanto **agrupamento não supervisionado** (ex. K-means).\n",
    "\n",
    "### Métodos de Classificação Supervisionada:\n",
    "- **Regressão Logística** e **SVM** para discriminação de classes.\n",
    "- **Random Forests** para detecção de padrões não-lineares.\n",
    "\n",
    "### Clustering:\n",
    "Usaremos **K-means** para agrupar dados sem rótulos.\n",
    "\n",
    "### Exemplo de Decodificação de Comportamento com Dados Reais:"
   ]
  },
  {
   "cell_type": "code",
   "execution_count": null,
   "metadata": {},
   "outputs": [],
   "source": [
    "# Exemplo de classificação com SVM\n",
    "from sklearn.svm import SVC\n",
    "from sklearn.model_selection import train_test_split\n",
    "from sklearn.metrics import accuracy_score\n",
    "\n",
    "# Dados de exemplo\n",
    "X, y = make_blobs(n_samples=100, centers=2, n_features=5, random_state=42)\n",
    "X_train, X_test, y_train, y_test = train_test_split(X, y, test_size=0.3)\n",
    "\n",
    "# Modelo SVM\n",
    "model = SVC(kernel='linear')\n",
    "model.fit(X_train, y_train)\n",
    "predictions = model.predict(X_test)\n",
    "\n",
    "# Avaliação\n",
    "accuracy = accuracy_score(y_test, predictions)\n",
    "print(f'Acurácia: {accuracy:.2f}')"
   ]
  },
  {
   "cell_type": "markdown",
   "metadata": {},
   "source": [
    "# Avaliação e Validação de Modelos\n",
    "\n",
    "Para garantir a eficácia dos modelos, utilizaremos **validação cruzada** e métricas como **acurácia** e **F1 score**.\n",
    "\n",
    "### Métodos de Validação:\n",
    "- **K-fold** e **Validação Estratificada** para consistência.\n",
    "\n",
    "### Métricas de Desempenho:\n",
    "- **Acurácia**, **ROC-AUC**, e **F1 Score**.\n",
    "\n",
    "### Exercício:\n",
    "Aplique a validação e interprete o desempenho do modelo."
   ]
  },
  {
   "cell_type": "code",
   "metadata": {},
   "outputs": [],
   "source": [
    "# Exemplo de validação cruzada\n",
    "from sklearn.model_selection import cross_val_score\n",
    "scores = cross_val_score(model, X, y, cv=5)\n",
    "\n",
    "print(f'Média da acurácia: {scores.mean():.2f} ± {scores.std():.2f}')"
   ]
  },
  {
   "cell_type": "markdown",
   "metadata": {},
   "source": [
    "# Sumário e Conclusões\n",
    "\n",
    "Neste workshop, cobrimos desde a introdução à codificação neural até técnicas de redução de dimensionalidade, agrupamento, e avaliação de modelos aplicados a dados neurais.\n",
    "\n",
    "### Próximos Passos:\n",
    "- Explore análises adicionais no conjunto de dados, teste novas técnicas de ML e valide os modelos em diferentes contextos."
   ]
  },
  {
   "cell_type": "code",
   "execution_count": null,
   "metadata": {},
   "outputs": [],
   "source": [
    "# @title Make sure you execute this cell to enable the widget!\n",
    "\n",
    "@widgets.interact(freq1=widgets.IntSlider(8, min=1, max=50),\n",
    "                  freq2=widgets.IntSlider(30, min=1, max=50),\n",
    "                  amp1=widgets.IntSlider(2, min=1, max=4),\n",
    "                  amp2=widgets.IntSlider(1, min=1, max=4),\n",
    "                  noise=widgets.FloatSlider(0.5, min=0, max=1.0))\n",
    "\n",
    "def plot_data_estimate(freq1, freq2, amp1, amp2, noise):\n",
    "  t = np.arange(0, 1, 1/fs)\n",
    "  LFP = amp1 * np.sin(2*np.pi*freq1*t) + amp2 * np.sin(2*np.pi*freq2*t) + np.random.normal(0, noise, len(t))\n",
    "  plt.figure(figsize=(10, 4))\n",
    "  plt.plot(t, LFP, 'royalblue')\n",
    "  plt.xlabel('Time (s)')\n",
    "  plt.ylabel('Amplitude (a.u.)')\n",
    "  plt.xlim([0, 1])\n",
    "  plt.ylim([-10, 10])\n",
    "  plt.show()\n"
   ]
  },
  {
   "cell_type": "markdown",
   "metadata": {},
   "source": [
    "---\n",
    "# Summary\n",
    "\n",
    "\n",
    "Congratulations on completing this micro-course on local field potential (LFP) analysis with open-source tools! Throughout this notebook, we delved into the fundamental aspects of signal processing and oscillation analyses in neuroscience. Let's recap the key highlights:\n",
    "\n",
    "## Key Learnings:\n",
    "\n",
    "1. **Visualizing Raw Signals and Identifying Artifacts:**\n",
    "   - Explored techniques for visualizing raw LFP signals and detecting artifacts that could impact subsequent analyses.\n",
    "\n",
    "2. **Transforming Signals: Temporal to Frequency Domain:**\n",
    "   - Mastered the transformation of temporal LFP signals into the frequency domain, gaining insights into the spectral composition of neural activity.\n",
    "\n",
    "3. **Computing Time-Frequency Profiles (Spectrogram):**\n",
    "   - Learned to compute spectrograms, revealing the dynamic changes in spectral power over time and providing a comprehensive view of neural oscillations.\n",
    "\n",
    "4. **Calculating Phase Coherence Between Signals:**\n",
    "   - Explored the computation of phase coherence, a vital measure for understanding synchronization between different LFP signals.\n",
    "\n",
    "5. **Determining Modulation Index Between Signals of Different Frequencies:**\n",
    "   - Investigated advanced analyses by calculating modulation indices between signals of distinct frequencies, uncovering intricate interactions in neural circuits.\n",
    "\n",
    "\n",
    "## Next Steps:\n",
    "\n",
    "This micro-course serves as a foundation for further exploration into the vast field of neuroscientific signal analysis. Consider applying these principles to real-world datasets and extending your knowledge into more advanced topics such as connectivity analysis, feature extraction, and machine learning applications in neuroscience.\n"
   ]
  },
  {
   "cell_type": "markdown",
   "metadata": {},
   "source": [
    "---\n",
    "# Supplementary Materials"
   ]
  },
  {
   "cell_type": "markdown",
   "metadata": {},
   "source": [
    "## Databases:\n",
    "\n",
    "Explore openly available neural electrophysiology data from various websites for your research:\n",
    "\n",
    "- [CRCNS](crcns.org)\n",
    "- [IBL's Brainwide Map](https://www.internationalbrainlab.com/data)\n",
    "- [Zenodo](https://zenodo.org)\n",
    "- [figshare](figshare.com)\n",
    "- [Dryad](https://datadryad.org/stash)\n",
    "- [Google Dataset Search](https://datasetsearch.research.google.com)\n",
    "\n",
    "## Resources from the Open-Source Community:\n",
    "\n",
    "Discover valuable resources from the open-source community related to neuroscience:\n",
    "\n",
    "- [List of Neuroscience Databases](en.wikipedia.org/wiki/List_of_neuroscience_databases)\n",
    "- [NeuralEnsemble](http://neuralensemble.org)\n",
    "- [Open Computational Neuroscience Resources](https://github.com/asoplata/open-computational-neuroscience-resources)\n",
    "\n",
    "## Learning Materials:\n",
    "\n",
    "Enhance your knowledge with these learning materials:\n",
    "\n",
    "- [Analyzing Neural Time Series Data: Theory and Practice (Mike Cohen's book)](https://direct.mit.edu/books/book/4013/Analyzing-Neural-Time-Series-DataTheory-and)\n",
    "- [Mike X Cohen YT videos on signal processing for neuroscience](https://www.youtube.com/@mikexcohen1/playlists)\n",
    "- [Signal Analysis 2020.2 (Prof. Tort's Signal Analysis course repo on GitHub)](https://github.com/tortlab/SignalAnalysis2020.2)\n"
   ]
  }
 ],
 "metadata": {
  "language_info": {
   "name": "python"
  }
 },
 "nbformat": 4,
 "nbformat_minor": 2
}
