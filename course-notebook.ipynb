{
 "cells": [
  {
   "cell_type": "markdown",
   "metadata": {},
   "source": [
    "<a target=\"_blank\" href=\"https://colab.research.google.com/github/lucaase/LFP-analysis-HS/blob/main/Course-Notebook.ipynb\">\n",
    "  <img src=\"https://colab.research.google.com/assets/colab-badge.svg\" alt=\"Open In Colab\"/>\n",
    "</a>\n",
    "\n",
    "<a target=\"_blank\" href=\"https://www.kaggle.com/kernels/welcome?src=https://github.com/lucaase/LFP-analysis-HS/blob/main/Course-Notebook.ipynb\">\n",
    "  <img src=\"https://kaggle.com/static/images/open-in-kaggle.svg\" alt=\"Open In Kaggle\"/>\n",
    "</a>"
   ]
  },
  {
   "cell_type": "markdown",
   "metadata": {},
   "source": [
    "# **Decoding the brain through machine learning**\n",
    "\n",
    "Welcome to the 2024 House Symposium of the Brain Institute! This short tutorial is designed to be part of the symposium, offering a comprehensive introduction to the intriguing realm of signal processing and oscillation analyses in neuroscience. Our focus will be on leveraging open-source tools to unravel the mysteries encoded in data recorded at the mesoscopic scale – the Local Field Potential (LFP). The LFP serves as a dynamic window into the activity of a small, localized population of neurons proximate to the recording electrode.\n",
    "\n",
    "**Brain Intitute, Federal University of Rio Grande do Norte**\n",
    "\n",
    "**Content creators**: Lucas CS Tavares (lucastavares@neuro.ufrn.br), Rodrigo MM Santiago (rsantiago@neuro.ufrn.br)"
   ]
  },
  {
   "cell_type": "markdown",
   "metadata": {},
   "source": [
    "___\n",
    "# Tutorial Objectives\n",
    "\n",
    "*Estimated timing of tutorial: 1h15 minutes*\n",
    "\n",
    "In this immersive tutorial, our primary goals are to equip attendees with the skills to dissect and interpret local field potential data through the lens of open-source tools. Throughout the session, participants will gain proficiency in the following key areas:\n",
    "\n",
    "- **Visualizing Raw Signals and Identifying Artifacts**:\n",
    "    - Explore techniques to visualize raw LFP signals effectively.\n",
    "    - Develop strategies for identifying and mitigating artifacts in the data.\n",
    "- **Transforming Signals: Temporal to Frequency Domain**:\n",
    "    - Learn how to transform temporal signals into the frequency domain.\n",
    "    - Understand the significance of frequency domain analysis in extracting meaningful insights.\n",
    "- **Computing Time-Frequency Profiles (Spectrogram)**:\n",
    "    - Learn the process of computing spectrograms to unveil the time-frequency profile of spectral power in LFP data.\n",
    "    - Gain insights into the dynamic changes in neural activity over time.\n",
    "- **Calculating Phase Coherence Between Signals**:\n",
    "    - Dive into the computation of phase coherence, a crucial measure for understanding synchronization between two signals.\n",
    "    - Uncover the interplay of neural activities reflected in phase relationships.\n",
    "- **Computing the Modulation Index Between Signals of Different Frequencies**:\n",
    "    - Explore advanced analyses by calculating modulation indices between signals of distinct frequencies.\n",
    "    - Understand how different frequency components interact and modulate each other.\n",
    "    \n",
    "\n",
    "<br>\n",
    "\n",
    "**Acknowledgements:**\n",
    "\n",
    "- This notebook's style was inspired by the ones used in [Neuromatch Academy](https://academy.neuromatch.io)."
   ]
  },
  {
   "cell_type": "markdown",
   "metadata": {},
   "source": [
    "---\n",
    "# Setup"
   ]
  },
  {
   "cell_type": "code",
   "execution_count": null,
   "metadata": {},
   "outputs": [],
   "source": [
    "# @title Import necessary libraries\n",
    "\n",
    "import numpy as np\n",
    "import matplotlib.pyplot as plt"
   ]
  },
  {
   "cell_type": "code",
   "execution_count": null,
   "metadata": {},
   "outputs": [],
   "source": [
    "# @title Figure Settings\n",
    "import logging\n",
    "logging.getLogger('matplotlib.font_manager').disabled = True\n",
    "\n",
    "import ipywidgets as widgets  # interactive display\n",
    "%config InlineBackend.figure_format = 'retina'"
   ]
  },
  {
   "cell_type": "code",
   "execution_count": null,
   "metadata": {},
   "outputs": [],
   "source": [
    "# @title Download data\n",
    "\n",
    "!wget https://github.com/lucaase/LFP-analysis-HS/raw/main/LFPprobe.mat\n",
    "!wget https://github.com/lucaase/LFP-analysis-HS/raw/main/LFP_HG_HFO.mat"
   ]
  },
  {
   "cell_type": "markdown",
   "metadata": {},
   "source": [
    "---\n",
    "# Section 1: Visualizing the signal"
   ]
  },
  {
   "cell_type": "markdown",
   "metadata": {},
   "source": [
    "In this section, we will delve into the essential step of visualizing raw Local Field Potential (LFP) signals and developing techniques to identify and mitigate artifacts. Visualization is a critical first step in understanding the characteristics of our data and ensuring its reliability for subsequent analyses."
   ]
  },
  {
   "cell_type": "markdown",
   "metadata": {},
   "source": [
    "## Interactive Demo 1: Playing with signal parameters\n",
    "\n",
    "Using an interactive widget, we can visualize how the manually inserted frequencies are present in the signal, how their amplitudes change and the effect of noise in the time series. This, however, is an overly simplistic representation, as the real signals can be decomposed into indefinite (limited by the sampling rate) frequency components.\n",
    "\n",
    "While decoupling signal from noise in this example is as simple as moving a slider, in the real world it is one of the hardest challenges in neuroscience."
   ]
  },
  {
   "cell_type": "code",
   "execution_count": null,
   "metadata": {},
   "outputs": [],
   "source": [
    "# @title Make sure you execute this cell to enable the widget!\n",
    "\n",
    "@widgets.interact(freq1=widgets.IntSlider(8, min=1, max=50),\n",
    "                  freq2=widgets.IntSlider(30, min=1, max=50),\n",
    "                  amp1=widgets.IntSlider(2, min=1, max=4),\n",
    "                  amp2=widgets.IntSlider(1, min=1, max=4),\n",
    "                  noise=widgets.FloatSlider(0.5, min=0, max=1.0))\n",
    "\n",
    "def plot_data_estimate(freq1, freq2, amp1, amp2, noise):\n",
    "  t = np.arange(0, 1, 1/fs)\n",
    "  LFP = amp1 * np.sin(2*np.pi*freq1*t) + amp2 * np.sin(2*np.pi*freq2*t) + np.random.normal(0, noise, len(t))\n",
    "  plt.figure(figsize=(10, 4))\n",
    "  plt.plot(t, LFP, 'royalblue')\n",
    "  plt.xlabel('Time (s)')\n",
    "  plt.ylabel('Amplitude (a.u.)')\n",
    "  plt.xlim([0, 1])\n",
    "  plt.ylim([-10, 10])\n",
    "  plt.show()\n"
   ]
  },
  {
   "cell_type": "markdown",
   "metadata": {},
   "source": [
    "---\n",
    "# Summary\n",
    "\n",
    "\n",
    "Congratulations on completing this micro-course on local field potential (LFP) analysis with open-source tools! Throughout this notebook, we delved into the fundamental aspects of signal processing and oscillation analyses in neuroscience. Let's recap the key highlights:\n",
    "\n",
    "## Key Learnings:\n",
    "\n",
    "1. **Visualizing Raw Signals and Identifying Artifacts:**\n",
    "   - Explored techniques for visualizing raw LFP signals and detecting artifacts that could impact subsequent analyses.\n",
    "\n",
    "2. **Transforming Signals: Temporal to Frequency Domain:**\n",
    "   - Mastered the transformation of temporal LFP signals into the frequency domain, gaining insights into the spectral composition of neural activity.\n",
    "\n",
    "3. **Computing Time-Frequency Profiles (Spectrogram):**\n",
    "   - Learned to compute spectrograms, revealing the dynamic changes in spectral power over time and providing a comprehensive view of neural oscillations.\n",
    "\n",
    "4. **Calculating Phase Coherence Between Signals:**\n",
    "   - Explored the computation of phase coherence, a vital measure for understanding synchronization between different LFP signals.\n",
    "\n",
    "5. **Determining Modulation Index Between Signals of Different Frequencies:**\n",
    "   - Investigated advanced analyses by calculating modulation indices between signals of distinct frequencies, uncovering intricate interactions in neural circuits.\n",
    "\n",
    "\n",
    "## Next Steps:\n",
    "\n",
    "This micro-course serves as a foundation for further exploration into the vast field of neuroscientific signal analysis. Consider applying these principles to real-world datasets and extending your knowledge into more advanced topics such as connectivity analysis, feature extraction, and machine learning applications in neuroscience.\n"
   ]
  },
  {
   "cell_type": "markdown",
   "metadata": {},
   "source": [
    "---\n",
    "# Supplementary Materials"
   ]
  },
  {
   "cell_type": "markdown",
   "metadata": {},
   "source": [
    "## Databases:\n",
    "\n",
    "Explore openly available neural electrophysiology data from various websites for your research:\n",
    "\n",
    "- [CRCNS](crcns.org)\n",
    "- [IBL's Brainwide Map](https://www.internationalbrainlab.com/data)\n",
    "- [Zenodo](https://zenodo.org)\n",
    "- [figshare](figshare.com)\n",
    "- [Dryad](https://datadryad.org/stash)\n",
    "- [Google Dataset Search](https://datasetsearch.research.google.com)\n",
    "\n",
    "## Resources from the Open-Source Community:\n",
    "\n",
    "Discover valuable resources from the open-source community related to neuroscience:\n",
    "\n",
    "- [List of Neuroscience Databases](en.wikipedia.org/wiki/List_of_neuroscience_databases)\n",
    "- [NeuralEnsemble](http://neuralensemble.org)\n",
    "- [Open Computational Neuroscience Resources](https://github.com/asoplata/open-computational-neuroscience-resources)\n",
    "\n",
    "## Learning Materials:\n",
    "\n",
    "Enhance your knowledge with these learning materials:\n",
    "\n",
    "- [Analyzing Neural Time Series Data: Theory and Practice (Mike Cohen's book)](https://direct.mit.edu/books/book/4013/Analyzing-Neural-Time-Series-DataTheory-and)\n",
    "- [Mike X Cohen YT videos on signal processing for neuroscience](https://www.youtube.com/@mikexcohen1/playlists)\n",
    "- [Signal Analysis 2020.2 (Prof. Tort's Signal Analysis course repo on GitHub)](https://github.com/tortlab/SignalAnalysis2020.2)\n"
   ]
  }
 ],
 "metadata": {
  "language_info": {
   "name": "python"
  }
 },
 "nbformat": 4,
 "nbformat_minor": 2
}
